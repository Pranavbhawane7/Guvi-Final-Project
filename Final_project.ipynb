Positive Reviews :

Experience - 209
Service - 139
healthcare provider - 86
disappointing not - 50
coming back - 50
Negative Reviews :

Experience - 186
Service - 131
healthcare provider - 73
highly recommended - 54 (Wrongly classified)
not happier - 48
experience terrible - 36
Neutral Reviews :

experience - 87
terrible would - 20
experience terrible - 20
mixed feeling - 20
bad experience - 15
Final Thoughts :

The dataset has just 9 statements in Review Text column which has been segmented into all 3 classes(+ve, -ve and neutral) - Looks like a toy dataset. So, the model is not performing properly. Therefore, we are not able to retrieve insights from the data.
People are satisifed with the healthcare provider(doctor).
They are willing to come back to this hospital.
Some people are not happy as they had a terrible experience.
Some people have mixed emotions about the healthcare center.

Thank you
